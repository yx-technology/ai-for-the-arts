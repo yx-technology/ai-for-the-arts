{
 "cells": [
  {
   "cell_type": "markdown",
   "id": "f4790e62",
   "metadata": {},
   "source": [
    "# Learning basic programming concepts\n",
    "*I want to...*\n",
    "- Independently navigate Github enough to create my own project\n",
    "- Know where to get help when I need it\n",
    "- Use codes for my creative projects\n",
    "\n",
    "Markdown cheatsheet: https://github.com/adam-p/markdown-here/wiki/markdown-cheatsheet"
   ]
  },
  {
   "cell_type": "markdown",
   "id": "0b05708d",
   "metadata": {},
   "source": [
    "# Hello, World!\n",
    "\n",
    "\"The following code was created to help me understand how to write and run code in GitHub Codespaces.\""
   ]
  },
  {
   "cell_type": "code",
   "execution_count": 3,
   "id": "4e3bd797-ef7e-4420-805d-6b9414bdc51c",
   "metadata": {},
   "outputs": [
    {
     "name": "stdout",
     "output_type": "stream",
     "text": [
      "Hello, World!\n"
     ]
    }
   ],
   "source": [
    "print(\"Hello, World!\")"
   ]
  },
  {
   "cell_type": "markdown",
   "id": "d9f3a1d4-0e47-4352-ace3-7ff08fb11e25",
   "metadata": {},
   "source": [
    "###### Group discussions: When running the code, it could not run because it was not a python extension but rather a plain text. I did not know what was going on and my other groupmate was also facing the same issues. Thanks to another group member, she explained the need to change the plain text to python and it ran smoothly from there."
   ]
  },
  {
   "cell_type": "markdown",
   "id": "b52e15d3-0637-42a4-bc19-7d88c5055eec",
   "metadata": {},
   "source": [
    "# Printing  \n",
    "**Microsoft Copilot**  \n",
    "\n",
    "*Prompt*  \n",
    "Could you suggest a python code for \"Hello, world!\" to demonstrate the concept of printing to a complete beginner in programming? Please explain the code step-by-step highlighting any key aspects.  \n",
    "\n",
    "*Key learning outcomes*  \n",
    "1. \"#\" is for comments\n",
    "2. print () is an example of a function\n",
    "3. \"\" are for strings\n",
    "- Combine it all together as a line of code - print (\"Hello, world!\")\n",
    "- Traditionally, most programmers use this phrase to test their programs."
   ]
  },
  {
   "cell_type": "code",
   "execution_count": 2,
   "id": "33816c59-04a4-43f8-bacb-e91a19a6e0a5",
   "metadata": {},
   "outputs": [
    {
     "name": "stdout",
     "output_type": "stream",
     "text": [
      "Hello, World!\n"
     ]
    }
   ],
   "source": [
    "print(\"Hello, World!\")"
   ]
  },
  {
   "cell_type": "markdown",
   "id": "507a3d7e-8fd9-46bb-a504-f60b8604e0b1",
   "metadata": {},
   "source": [
    "###### Group discussions: Doing this in 2 parts, one at my own time and one in class. The markdown was reflected in the main repository but not in the jupyter notebook or codespace when I did it during lesson the next day. The lecturer did a force PUsh to Remote (Advanced) to reflect it and it worked. Microsoft Copilot was not very helpful with the error message..."
   ]
  },
  {
   "cell_type": "code",
   "execution_count": null,
   "id": "adbd34eb-f1cc-4866-8707-0b2c71d18bd3",
   "metadata": {},
   "outputs": [],
   "source": []
  }
 ],
 "metadata": {
  "kernelspec": {
   "display_name": "Python 3 (ipykernel)",
   "language": "python",
   "name": "python3"
  },
  "language_info": {
   "codemirror_mode": {
    "name": "ipython",
    "version": 3
   },
   "file_extension": ".py",
   "mimetype": "text/x-python",
   "name": "python",
   "nbconvert_exporter": "python",
   "pygments_lexer": "ipython3",
   "version": "3.12.1"
  }
 },
 "nbformat": 4,
 "nbformat_minor": 5
}
