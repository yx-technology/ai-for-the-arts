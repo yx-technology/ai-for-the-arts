{
 "cells": [
  {
   "cell_type": "markdown",
   "id": "f4790e62",
   "metadata": {},
   "source": [
    "# Learning basic programming concepts\n",
    "*I want to...*\n",
    "- Independently navigate Github enough to create my own project\n",
    "- Know where to get help when I need it\n",
    "- Use codes for my creative projects"
   ]
  },
  {
   "cell_type": "markdown",
   "id": "0b05708d",
   "metadata": {},
   "source": [
    "# Hello, World!\n",
    "\n",
    "\"The following code was created to help me understand how to write and run code in GitHub Codespaces.\""
   ]
  },
  {
   "cell_type": "code",
   "execution_count": 2,
   "id": "fc8ebbb8",
   "metadata": {},
   "outputs": [
    {
     "name": "stdout",
     "output_type": "stream",
     "text": [
      "Hello, World!\n"
     ]
    }
   ],
   "source": [
    "print(\"Hello, World!\")"
   ]
  }
 ],
 "metadata": {
  "kernelspec": {
   "display_name": "Python 3",
   "language": "python",
   "name": "python3"
  },
  "language_info": {
   "codemirror_mode": {
    "name": "ipython",
    "version": 3
   },
   "file_extension": ".py",
   "mimetype": "text/x-python",
   "name": "python",
   "nbconvert_exporter": "python",
   "pygments_lexer": "ipython3",
   "version": "3.12.1"
  }
 },
 "nbformat": 4,
 "nbformat_minor": 5
}
