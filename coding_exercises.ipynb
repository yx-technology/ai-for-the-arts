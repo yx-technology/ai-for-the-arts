{
 "cells": [
  {
   "cell_type": "markdown",
   "id": "f4790e62",
   "metadata": {},
   "source": [
    "# Learning basic programming concepts\n",
    "*I want to...*\n",
    "- Independently navigate Github enough to create my own project\n",
    "- Know where to get help when I need it\n",
    "- Use codes for my creative projects\n",
    "\n",
    "Markdown cheatsheet: https://github.com/adam-p/markdown-here/wiki/markdown-cheatsheet"
   ]
  },
  {
   "cell_type": "markdown",
   "id": "0b05708d",
   "metadata": {},
   "source": [
    "# Hello, World!\n",
    "\n",
    "\"The following code was created to help me understand how to write and run code in GitHub Codespaces.\""
   ]
  },
  {
   "cell_type": "code",
   "execution_count": 3,
   "id": "4e3bd797-ef7e-4420-805d-6b9414bdc51c",
   "metadata": {},
   "outputs": [
    {
     "name": "stdout",
     "output_type": "stream",
     "text": [
      "Hello, World!\n"
     ]
    }
   ],
   "source": [
    "print(\"Hello, World!\")"
   ]
  },
  {
   "cell_type": "markdown",
   "id": "d9f3a1d4-0e47-4352-ace3-7ff08fb11e25",
   "metadata": {},
   "source": [
    "###### Group discussions: When running the code, it could not run because it was not a python extension but rather a plain text. I did not know what was going on and my other groupmate was also facing the same issues. Thanks to another group member, she explained the need to change the plain text to python and it ran smoothly from there."
   ]
  },
  {
   "cell_type": "markdown",
   "id": "b52e15d3-0637-42a4-bc19-7d88c5055eec",
   "metadata": {},
   "source": [
    "# Printing  \n",
    "**Microsoft Copilot**  \n",
    "\n",
    "*Prompt*  \n",
    "Could you suggest a python code for \"Hello, world!\" to demonstrate the concept of printing to a complete beginner in programming? Please explain the code step-by-step highlighting any key aspects.  \n",
    "\n",
    "*Key learning outcomes*  \n",
    "1. \"#\" is for comments\n",
    "2. print () is an example of a function\n",
    "3. \"\" are for strings\n",
    "- Combine it all together as a line of code - print (\"Hello, world!\")\n",
    "- Traditionally, most programmers use this phrase to test their programs."
   ]
  },
  {
   "cell_type": "code",
   "execution_count": 2,
   "id": "33816c59-04a4-43f8-bacb-e91a19a6e0a5",
   "metadata": {
    "scrolled": true
   },
   "outputs": [
    {
     "name": "stdout",
     "output_type": "stream",
     "text": [
      "Hello, World!\n"
     ]
    }
   ],
   "source": [
    "print(\"Hello, World!\")"
   ]
  },
  {
   "cell_type": "markdown",
   "id": "507a3d7e-8fd9-46bb-a504-f60b8604e0b1",
   "metadata": {},
   "source": [
    "###### Group discussions: Doing this in 2 parts, one at my own time and one in class. The markdown was reflected in the main repository but not in the jupyter notebook or codespace when I did it during lesson the next day. The lecturer did a force PUsh to Remote (Advanced) to reflect it and it worked. Microsoft Copilot was not very helpful with the error message..."
   ]
  },
  {
   "cell_type": "markdown",
   "id": "adbd34eb-f1cc-4866-8707-0b2c71d18bd3",
   "metadata": {},
   "source": [
    "# Other concepts\n",
    "**Microsoft Copilot**  \n",
    "\n",
    "### #1 Variables\n",
    "*Prompt*  \n",
    "Could you suggest a modification of the Python code for “Hello, world!” to demonstrate the concept of variables to a complete beginner in programming? Please explain the code step-by-step highlighting any key aspects.\n",
    "\n",
    "*Key learning outcomes*\n",
    "- Variable store values [name], [greeting], [count], and [message length]\n",
    "- Types of values [text(strings)] and numbers\n",
    "- Assignment and reassignment [=]\n",
    "- Using variables in expression [+]\n",
    "- Functions and results [len()]\n",
    "- Printing output [print()]"
   ]
  },
  {
   "cell_type": "code",
   "execution_count": 1,
   "id": "98b9e7f4",
   "metadata": {},
   "outputs": [
    {
     "name": "stdout",
     "output_type": "stream",
     "text": [
      "Hello, world\n",
      "Now greeting someone new: Hello, yixuan\n",
      "Number of greetings sent: 2\n",
      "First greeting length: 12\n"
     ]
    }
   ],
   "source": [
    "# hello_variables.py\n",
    "# A friendly \"Hello, world!\" that shows how variables store and change values\n",
    "\n",
    "name = \"world\"                   # store text in a variable\n",
    "greeting = \"Hello, \" + name      # build a message by combining text and a variable\n",
    "print(greeting)                  # show the message to the user\n",
    "\n",
    "name = \"yixuan\"                  # change the value stored in the same variable\n",
    "print(\"Now greeting someone new:\", \"Hello, \" + name)\n",
    "\n",
    "count = 1                        # store a number in a variable\n",
    "count = count + 1                # update the number by using its previous value\n",
    "print(\"Number of greetings sent:\", count)\n",
    "\n",
    "message_length = len(greeting)   # use a built-in function and store its result\n",
    "print(\"First greeting length:\", message_length)\n"
   ]
  },
  {
   "cell_type": "markdown",
   "id": "0a41b1e1",
   "metadata": {},
   "source": [
    "### #2 Functions\n",
    "*Prompt*  \n",
    "Please give alternate examples.\n",
    "\n",
    "*Key learning outcomes*  \n",
    "Example 1: Numeric counter and loop  \n",
    "Example 2: Text input and formatting  \n",
    "Example 3: Collections and indexing  \n",
    "Example 4: Boolean variables and branching  \n",
    "Example 5: Function returns and reuse  \n",
    "- Most examples are easy to grasp after experimenting with the codes and variables, giving a lot of flexibility to manipulating the code to reflect what I want.  \n",
    "- Not all codes are cut and paste (I edited some of the codes with other variables, thininking I could link it directly for example, getting input on the 3 but ended up messing up the code because it is currently programmed to only be able to read a string of pre-programmed values)\n"
   ]
  },
  {
   "cell_type": "code",
   "execution_count": 2,
   "id": "d718a313",
   "metadata": {},
   "outputs": [
    {
     "name": "stdout",
     "output_type": "stream",
     "text": [
      "Greeting number 1 - Hello!\n",
      "Greeting number 2 - Hello!\n",
      "Greeting number 3 - Hello!\n",
      "Greeting number 4 - Hello!\n",
      "Greeting number 5 - Hello!\n",
      "Final count: 5\n"
     ]
    }
   ],
   "source": [
    "# counter_loop.py\n",
    "count = 0\n",
    "while count < 5:\n",
    "    count = count + 1\n",
    "    print(\"Greeting number\", count, \"- Hello!\")\n",
    "print(\"Final count:\", count)\n"
   ]
  },
  {
   "cell_type": "code",
   "execution_count": 3,
   "id": "6bb1bd56",
   "metadata": {},
   "outputs": [
    {
     "name": "stdout",
     "output_type": "stream",
     "text": [
      "Hello, Yi Xuan!\n",
      "Name length: 7\n"
     ]
    }
   ],
   "source": [
    "# personalized_greeting.py\n",
    "name = input(\"Enter your name: \")\n",
    "greeting = f\"Hello, {name}!\"\n",
    "print(greeting)\n",
    "print(\"Name length:\", len(name))"
   ]
  },
  {
   "cell_type": "code",
   "execution_count": 7,
   "id": "9e0eb800",
   "metadata": {},
   "outputs": [
    {
     "name": "stdout",
     "output_type": "stream",
     "text": [
      "Favorites: ['tea', 'books', 'walks', 'coding']\n",
      "First favorite: tea\n"
     ]
    }
   ],
   "source": [
    "# favorite_things.py\n",
    "favorites = [\"tea\", \"books\", \"walks\"]\n",
    "favorites.append(\"coding\")\n",
    "first = favorites[0]\n",
    "print(\"Favorites:\", favorites)\n",
    "print(\"First favorite:\", first)\n"
   ]
  },
  {
   "cell_type": "code",
   "execution_count": 8,
   "id": "85e0ff0d",
   "metadata": {},
   "outputs": [
    {
     "name": "stdout",
     "output_type": "stream",
     "text": [
      "You are an adult.\n"
     ]
    }
   ],
   "source": [
    "# age_check.py\n",
    "age = int(input(\"How old are you? \"))\n",
    "is_adult = age >= 18\n",
    "if is_adult:\n",
    "    print(\"You are an adult.\")\n",
    "else:\n",
    "    print(\"You are not an adult yet.\")\n"
   ]
  },
  {
   "cell_type": "code",
   "execution_count": 10,
   "id": "c2df6432",
   "metadata": {},
   "outputs": [
    {
     "name": "stdout",
     "output_type": "stream",
     "text": [
      "Hello, Yi Xuan\n"
     ]
    }
   ],
   "source": [
    "# make_message.py\n",
    "def make_greeting(name):\n",
    "    return \"Hello, \" + name\n",
    "\n",
    "user = \"Yi Xuan\"\n",
    "message = make_greeting(user)\n",
    "print(message)\n"
   ]
  },
  {
   "cell_type": "markdown",
   "id": "9eeac58a",
   "metadata": {},
   "source": [
    "### #3 Loops\n",
    "*Prompt*  \n",
    "Could you suggest a modification of the Python code for “Hello, world!” to demonstrate the concept of loops to a complete beginner in programming? Please explain the code step-by-step highlighting any key aspects.\n",
    "\n",
    "*Key learning outcomes*  \n",
    "1. [for] loop attaches an instruction\n",
    "2. [range()] is a sequence of numbers from 0-5 (5 is the number of numbers starting from 0 as the first number)\n",
    "3. The loop runs once for each number in that sequence.\n",
    "4. Variable is used to take on the number of the loops\n",
    "- This is called a for loop\n",
    "- No need to keep using the function [print()]\n",
    "- Useful when multiple runs of the same thing is required\n"
   ]
  },
  {
   "cell_type": "code",
   "execution_count": 1,
   "id": "071838f5",
   "metadata": {},
   "outputs": [
    {
     "name": "stdout",
     "output_type": "stream",
     "text": [
      "Hello, world!\n",
      "Hello, world!\n",
      "Hello, world!\n",
      "Hello, world!\n",
      "Hello, world!\n"
     ]
    }
   ],
   "source": [
    "# This loop will print \"Hello, world!\" five times\n",
    "for i in range(5):\n",
    "    print(\"Hello, world!\")"
   ]
  },
  {
   "cell_type": "markdown",
   "id": "e8bfcf4b",
   "metadata": {},
   "source": [
    "### #3 Loops\n",
    "*Prompt*  \n",
    "Could you suggest a modification of the Python code for “Hello, world!” to demonstrate the concept of loops to a complete beginner in programming? Please explain the code step-by-step highlighting any key aspects.\n",
    "\n",
    "*Key learning outcomes*  \n",
    "1. [for] loop attaches an instruction\n",
    "2. [range()] is a sequence of numbers from 0-5 (5 is the number of numbers starting from 0 as the first number)\n",
    "3. The loop runs once for each number in that sequence.\n",
    "4. Variable is used to take on the number of the loops\n",
    "- This is called a for loop\n",
    "- No need to keep using the function [print()]\n",
    "- Useful when multiple runs of the same thing is required\n"
   ]
  }
 ],
 "metadata": {
  "kernelspec": {
   "display_name": "Python 3",
   "language": "python",
   "name": "python3"
  },
  "language_info": {
   "codemirror_mode": {
    "name": "ipython",
    "version": 3
   },
   "file_extension": ".py",
   "mimetype": "text/x-python",
   "name": "python",
   "nbconvert_exporter": "python",
   "pygments_lexer": "ipython3",
   "version": "3.12.1"
  }
 },
 "nbformat": 4,
 "nbformat_minor": 5
}
